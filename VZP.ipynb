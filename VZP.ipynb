{
 "cells": [
  {
   "cell_type": "markdown",
   "metadata": {},
   "source": []
  },
  {
   "cell_type": "markdown",
   "metadata": {},
   "source": [
    "# VERIZON PYTHON AUTOMATION"
   ]
  },
  {
   "cell_type": "markdown",
   "metadata": {},
   "source": [
    "This report is to have full automation of multiple data sets from Securitas Inc and Verizon. On average the time needed to build the reports due to error in formula adjustments are 5 hours worked. By building the templete in Python, the goal is to have all reports completed with a 30min window."
   ]
  },
  {
   "cell_type": "code",
   "execution_count": 50,
   "metadata": {},
   "outputs": [],
   "source": [
    "import math\r\n",
    "import pandas as pd"
   ]
  },
  {
   "cell_type": "code",
   "execution_count": 51,
   "metadata": {},
   "outputs": [],
   "source": [
    "VZP = pd.read_csv('C:/Users/Alema/Desktop/FinTechClass/VZP.csv', delimiter=',')\r\n",
    "request_num = pd.read_csv('C:/Users/Alema/Desktop/FinTechClass/VZP_POs.csv', delimiter=',')\r\n",
    "\r\n"
   ]
  },
  {
   "cell_type": "code",
   "execution_count": 52,
   "metadata": {},
   "outputs": [],
   "source": [
    "#This code is used to obtain the columns that I want in my report\r\n",
    "\r\n",
    "report = VZP[['ENGAGEMENT_NUMBER','TRANSACTION_NUMBER', 'BILLING_DESCRIPTION', 'TIME_TYPE','QUANTITY', 'RATE', 'AMOUNT_TIME_PRETAX', 'INVOICE_T0TAL_AMOUNT', 'EXPENSES_TOTAL_PRETAX', 'INVOICE_PRE_TAX_AMOUNT', 'INVOICE_SALES_TAX',]]"
   ]
  },
  {
   "cell_type": "code",
   "execution_count": 53,
   "metadata": {},
   "outputs": [],
   "source": [
    "#this code is used to concatenate my columns to prepare for the groupby function.\r\n",
    "\r\n",
    "col1 = ['ENGAGEMENT_NUMBER', 'TRANSACTION_NUMBER', 'BILLING_DESCRIPTION', 'TIME_TYPE','INVOICE_SALES_TAX', 'RATE', 'INVOICE_PRE_TAX_AMOUNT']\r\n",
    "col2 = ['ENGAGEMENT_NUMBER', 'TRANSACTION_NUMBER', 'BILLING_DESCRIPTION', 'TIME_TYPE','QUANTITY', 'AMOUNT_TIME_PRETAX', 'EXPENSES_TOTAL_PRETAX', 'INVOICE_T0TAL_AMOUNT']\r\n",
    "report1 = report.reset_index()[col1]\r\n",
    "report2 = report.reset_index()[col2]"
   ]
  },
  {
   "cell_type": "code",
   "execution_count": 54,
   "metadata": {},
   "outputs": [],
   "source": [
    "#code is used to prepare the report to give the max and sum of the columns by removing duplicates and formating it to a one line if possible\r\n",
    "\r\n",
    "vzpa = report1.groupby(['ENGAGEMENT_NUMBER', 'TRANSACTION_NUMBER', 'TIME_TYPE', 'BILLING_DESCRIPTION']).max()\r\n",
    "vzpb = report2.groupby(['ENGAGEMENT_NUMBER', 'TRANSACTION_NUMBER', 'TIME_TYPE', 'BILLING_DESCRIPTION']).sum()"
   ]
  },
  {
   "cell_type": "code",
   "execution_count": 55,
   "metadata": {},
   "outputs": [],
   "source": [
    "#with the previous (.groupby) code, this allows for the columns to merge and reset my index ( main column to reference)\r\n",
    "\r\n",
    "vzp_result = pd.concat([vzpa, vzpb], axis=1, join='inner').reset_index()\r\n",
    "\r\n"
   ]
  },
  {
   "cell_type": "code",
   "execution_count": 56,
   "metadata": {},
   "outputs": [],
   "source": [
    "#now that my main report is complete, I can now merge the VZP report from Oracle to the PO file that is given from Verizon, I have to make sure that the Engagement_Number is used to reference. \r\n",
    "\r\n",
    "VZP_Report = pd.merge(vzp_result, request_num, left_on='ENGAGEMENT_NUMBER', right_on='ENGAGEMENT_NUMBER', how='left')"
   ]
  },
  {
   "cell_type": "code",
   "execution_count": 57,
   "metadata": {},
   "outputs": [],
   "source": [
    "# columns are changed to be formated correctly and easy to read\r\n",
    "\r\n",
    "VZP_Report.rename(columns ={'ENGAGEMENT_NUMBER': 'Engagement Number', 'TRANSACTION_NUMBER': 'Invoice', 'BILLING_DESCRIPTION': 'Guard Type','TIME_TYPE': 'Hour Type', 'QUANTITY': 'Total Hours', 'RATE': 'Rate', 'EXPENSES_TOTAL_PRETAX': 'Expenses', 'INVOICE_SALES_TAX': 'Sales Tax', 'AMOUNT_TIME_PRETAX': 'Hour Subtotal', 'INVOICE_PRE_TAX_AMOUNT': 'Pre-Tax Subtotal' , 'INVOICE_T0TAL_AMOUNT': 'Total'}, inplace=True)"
   ]
  },
  {
   "cell_type": "code",
   "execution_count": 58,
   "metadata": {},
   "outputs": [
    {
     "data": {
      "text/plain": "['Engagement Number',\n 'Invoice',\n 'Hour Type',\n 'Guard Type',\n 'Sales Tax',\n 'Rate',\n 'Pre-Tax Subtotal',\n 'Total Hours',\n 'Hour Subtotal',\n 'Expenses',\n 'Total',\n 'Request Number',\n 'Street Address',\n 'City',\n 'State',\n 'Zip Code',\n 'GBU',\n 'Market',\n 'Account',\n 'Cost Center',\n 'Product',\n 'Location']"
     },
     "execution_count": 58,
     "metadata": {},
     "output_type": "execute_result"
    }
   ],
   "source": [
    "#  Here I set up the Headers for my report and reformate them to standard of Verizon since they use the file to upload to their database\r\n",
    "\r\n",
    "Headers = list(VZP_Report.columns)\r\n",
    "Headers"
   ]
  },
  {
   "cell_type": "code",
   "execution_count": 59,
   "metadata": {},
   "outputs": [],
   "source": [
    "new_columns = ['Engagement Number',\r\n",
    " 'Request Number',\r\n",
    " 'Invoice', \r\n",
    " 'Street Address',\r\n",
    " 'City',\r\n",
    " 'State',\r\n",
    " 'Zip Code',\r\n",
    " 'Guard Type',\r\n",
    " 'Hour Type',\r\n",
    " 'Rate',\r\n",
    " 'Total Hours',\r\n",
    " 'Hour Subtotal',\r\n",
    " 'Expenses',\r\n",
    " 'Pre-Tax Subtotal',\r\n",
    " 'Sales Tax',\r\n",
    " 'Total', \r\n",
    " 'GBU',\r\n",
    " 'Market',\r\n",
    " 'Account',\r\n",
    " 'Cost Center',\r\n",
    " 'Product',\r\n",
    " 'Location']"
   ]
  },
  {
   "cell_type": "code",
   "execution_count": 60,
   "metadata": {},
   "outputs": [],
   "source": [
    "VZP_Report =VZP_Report[new_columns]\r\n"
   ]
  },
  {
   "cell_type": "code",
   "execution_count": 61,
   "metadata": {},
   "outputs": [],
   "source": [
    "#final product in a csv, then i can input on the template in my excel file\r\n",
    "\r\n",
    "VZP_Report.to_csv('VZP_FINAL.csv', index=False)"
   ]
  },
  {
   "cell_type": "code",
   "execution_count": null,
   "metadata": {},
   "outputs": [],
   "source": []
  }
 ],
 "metadata": {
  "kernelspec": {
   "display_name": "Python 3.8.5 64-bit ('base': conda)",
   "name": "python385jvsc74a57bd04478a6df9b3c1de7ad428593c226a17b217252cae65059c1775d82e9e288c515"
  },
  "language_info": {
   "codemirror_mode": {
    "name": "ipython",
    "version": 3
   },
   "file_extension": ".py",
   "mimetype": "text/x-python",
   "name": "python",
   "nbconvert_exporter": "python",
   "pygments_lexer": "ipython3",
   "version": "3.8.5"
  },
  "metadata": {
   "interpreter": {
    "hash": "84d88e41890a5e5dadc87bf616771c3a9890b68ce7825457458b9addcf5c93bf"
   }
  },
  "orig_nbformat": 2
 },
 "nbformat": 4,
 "nbformat_minor": 2
}